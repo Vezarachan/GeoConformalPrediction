{
 "cells": [
  {
   "cell_type": "code",
   "id": "initial_id",
   "metadata": {
    "collapsed": true,
    "ExecuteTime": {
     "end_time": "2025-06-03T14:57:52.540448Z",
     "start_time": "2025-06-03T14:57:50.019764Z"
    }
   },
   "source": [
    "import xgboost as xgb\n",
    "import pandas as pd\n",
    "import geopandas as gpd\n",
    "import numpy as np\n",
    "import matplotlib.pyplot as plt\n",
    "import seaborn as sns\n",
    "import geoplot as gplt\n",
    "import geoplot.crs as gcrs\n",
    "from sklearn.model_selection import train_test_split\n",
    "from sklearn.preprocessing import LabelEncoder\n",
    "import contextily as cx"
   ],
   "outputs": [],
   "execution_count": 1
  },
  {
   "metadata": {
    "ExecuteTime": {
     "end_time": "2025-06-03T14:57:54.387798Z",
     "start_time": "2025-06-03T14:57:52.995642Z"
    }
   },
   "cell_type": "code",
   "source": "data = gpd.read_file('../dataset/bonston_funcblock_with_centroids.gpkg')",
   "id": "acae8cc481fa40a",
   "outputs": [],
   "execution_count": 2
  },
  {
   "metadata": {
    "ExecuteTime": {
     "end_time": "2025-06-03T14:57:54.580190Z",
     "start_time": "2025-06-03T14:57:54.475815Z"
    }
   },
   "cell_type": "code",
   "source": "data",
   "id": "53c21996dc43783b",
   "outputs": [
    {
     "data": {
      "text/plain": [
       "       id_block           LU  cls_Unk  cls_A  cls_AH     cls_C    cls_CL  \\\n",
       "0             6   Commercial      1.0    0.0     0.0  0.000000  0.000000   \n",
       "1             7   Commercial      0.0    0.0     0.0  0.940390  0.059610   \n",
       "2             8   Commercial      0.0    0.0     0.0  1.000000  0.000000   \n",
       "3             9   Commercial      0.0    0.0     0.0  0.700692  0.299308   \n",
       "4            10   Commercial      0.0    0.0     0.0  1.000000  0.000000   \n",
       "...         ...          ...      ...    ...     ...       ...       ...   \n",
       "17881     17401  Residential      0.0    0.0     0.0  0.000000  0.000000   \n",
       "17882     17402  Residential      0.0    0.0     0.0  0.000000  0.000000   \n",
       "17883     17403  Residential      0.0    0.0     0.0  0.000000  0.000000   \n",
       "17884     17411  Residential      0.0    0.0     0.0  0.000000  0.000000   \n",
       "17885     17871  Residential      0.0    0.0     0.0  0.000000  0.000000   \n",
       "\n",
       "       cls_CM  cls_CP  cls_I  ...  std_BOY_in     aver_M11     std_M11  \\\n",
       "0         0.0     0.0    0.0  ...    0.000000   -50.414952    0.000000   \n",
       "1         0.0     0.0    0.0  ...    0.047295   -53.279577   65.380497   \n",
       "2         0.0     0.0    0.0  ...    0.000000 -1049.402964    0.000000   \n",
       "3         0.0     0.0    0.0  ...    0.041597   167.568440  304.183450   \n",
       "4         0.0     0.0    0.0  ...    0.000000   -61.805733    0.000000   \n",
       "...       ...     ...    ...  ...         ...          ...         ...   \n",
       "17881     0.0     0.0    0.0  ...    0.000000     0.000000    0.000000   \n",
       "17882     0.0     0.0    0.0  ...    0.000000     0.000000    0.000000   \n",
       "17883     0.0     0.0    0.0  ...    0.000000     0.000000    0.000000   \n",
       "17884     0.0     0.0    0.0  ...    0.000000     0.000000    0.000000   \n",
       "17885     0.0     0.0    0.0  ...    0.000000     0.000000    0.000000   \n",
       "\n",
       "         aver_eccen   std_eccent  aver_densi  std_densit        lon  lat  \\\n",
       "0        428.722810     0.000000    0.006451    0.000000 -71.076431   42   \n",
       "1       6823.964477  8267.378348    0.090087    0.018621 -71.160933   42   \n",
       "2      22368.509799     0.000000    0.171296    0.000000 -71.157989   42   \n",
       "3       2362.979048  1640.652456    0.142493    0.047156 -71.161108   42   \n",
       "4       1013.583268     0.000000    0.133715    0.000000 -71.159231   42   \n",
       "...             ...          ...         ...         ...        ...  ...   \n",
       "17881      0.000000     0.000000    0.000000    0.000000 -71.049469   42   \n",
       "17882      0.000000     0.000000    0.000000    0.000000 -71.049417   42   \n",
       "17883      0.000000     0.000000    0.000000    0.000000 -71.050119   42   \n",
       "17884      0.000000     0.000000    0.000000    0.000000 -71.050182   42   \n",
       "17885      0.000000     0.000000    0.000000    0.000000 -71.010259   42   \n",
       "\n",
       "                                                geometry  \n",
       "0      MULTIPOLYGON (((-71.07635 42.38620, -71.07635 ...  \n",
       "1      MULTIPOLYGON (((-71.16059 42.25748, -71.16070 ...  \n",
       "2      MULTIPOLYGON (((-71.15767 42.25801, -71.15763 ...  \n",
       "3      MULTIPOLYGON (((-71.16058 42.25861, -71.16068 ...  \n",
       "4      MULTIPOLYGON (((-71.15926 42.25926, -71.15914 ...  \n",
       "...                                                  ...  \n",
       "17881  MULTIPOLYGON (((-71.04943 42.35791, -71.04949 ...  \n",
       "17882  MULTIPOLYGON (((-71.04939 42.35814, -71.04945 ...  \n",
       "17883  MULTIPOLYGON (((-71.05016 42.35824, -71.05016 ...  \n",
       "17884  MULTIPOLYGON (((-71.05025 42.36481, -71.05008 ...  \n",
       "17885  MULTIPOLYGON (((-71.01046 42.39059, -71.00985 ...  \n",
       "\n",
       "[17886 rows x 65 columns]"
      ],
      "text/html": [
       "<div>\n",
       "<style scoped>\n",
       "    .dataframe tbody tr th:only-of-type {\n",
       "        vertical-align: middle;\n",
       "    }\n",
       "\n",
       "    .dataframe tbody tr th {\n",
       "        vertical-align: top;\n",
       "    }\n",
       "\n",
       "    .dataframe thead th {\n",
       "        text-align: right;\n",
       "    }\n",
       "</style>\n",
       "<table border=\"1\" class=\"dataframe\">\n",
       "  <thead>\n",
       "    <tr style=\"text-align: right;\">\n",
       "      <th></th>\n",
       "      <th>id_block</th>\n",
       "      <th>LU</th>\n",
       "      <th>cls_Unk</th>\n",
       "      <th>cls_A</th>\n",
       "      <th>cls_AH</th>\n",
       "      <th>cls_C</th>\n",
       "      <th>cls_CL</th>\n",
       "      <th>cls_CM</th>\n",
       "      <th>cls_CP</th>\n",
       "      <th>cls_I</th>\n",
       "      <th>...</th>\n",
       "      <th>std_BOY_in</th>\n",
       "      <th>aver_M11</th>\n",
       "      <th>std_M11</th>\n",
       "      <th>aver_eccen</th>\n",
       "      <th>std_eccent</th>\n",
       "      <th>aver_densi</th>\n",
       "      <th>std_densit</th>\n",
       "      <th>lon</th>\n",
       "      <th>lat</th>\n",
       "      <th>geometry</th>\n",
       "    </tr>\n",
       "  </thead>\n",
       "  <tbody>\n",
       "    <tr>\n",
       "      <th>0</th>\n",
       "      <td>6</td>\n",
       "      <td>Commercial</td>\n",
       "      <td>1.0</td>\n",
       "      <td>0.0</td>\n",
       "      <td>0.0</td>\n",
       "      <td>0.000000</td>\n",
       "      <td>0.000000</td>\n",
       "      <td>0.0</td>\n",
       "      <td>0.0</td>\n",
       "      <td>0.0</td>\n",
       "      <td>...</td>\n",
       "      <td>0.000000</td>\n",
       "      <td>-50.414952</td>\n",
       "      <td>0.000000</td>\n",
       "      <td>428.722810</td>\n",
       "      <td>0.000000</td>\n",
       "      <td>0.006451</td>\n",
       "      <td>0.000000</td>\n",
       "      <td>-71.076431</td>\n",
       "      <td>42</td>\n",
       "      <td>MULTIPOLYGON (((-71.07635 42.38620, -71.07635 ...</td>\n",
       "    </tr>\n",
       "    <tr>\n",
       "      <th>1</th>\n",
       "      <td>7</td>\n",
       "      <td>Commercial</td>\n",
       "      <td>0.0</td>\n",
       "      <td>0.0</td>\n",
       "      <td>0.0</td>\n",
       "      <td>0.940390</td>\n",
       "      <td>0.059610</td>\n",
       "      <td>0.0</td>\n",
       "      <td>0.0</td>\n",
       "      <td>0.0</td>\n",
       "      <td>...</td>\n",
       "      <td>0.047295</td>\n",
       "      <td>-53.279577</td>\n",
       "      <td>65.380497</td>\n",
       "      <td>6823.964477</td>\n",
       "      <td>8267.378348</td>\n",
       "      <td>0.090087</td>\n",
       "      <td>0.018621</td>\n",
       "      <td>-71.160933</td>\n",
       "      <td>42</td>\n",
       "      <td>MULTIPOLYGON (((-71.16059 42.25748, -71.16070 ...</td>\n",
       "    </tr>\n",
       "    <tr>\n",
       "      <th>2</th>\n",
       "      <td>8</td>\n",
       "      <td>Commercial</td>\n",
       "      <td>0.0</td>\n",
       "      <td>0.0</td>\n",
       "      <td>0.0</td>\n",
       "      <td>1.000000</td>\n",
       "      <td>0.000000</td>\n",
       "      <td>0.0</td>\n",
       "      <td>0.0</td>\n",
       "      <td>0.0</td>\n",
       "      <td>...</td>\n",
       "      <td>0.000000</td>\n",
       "      <td>-1049.402964</td>\n",
       "      <td>0.000000</td>\n",
       "      <td>22368.509799</td>\n",
       "      <td>0.000000</td>\n",
       "      <td>0.171296</td>\n",
       "      <td>0.000000</td>\n",
       "      <td>-71.157989</td>\n",
       "      <td>42</td>\n",
       "      <td>MULTIPOLYGON (((-71.15767 42.25801, -71.15763 ...</td>\n",
       "    </tr>\n",
       "    <tr>\n",
       "      <th>3</th>\n",
       "      <td>9</td>\n",
       "      <td>Commercial</td>\n",
       "      <td>0.0</td>\n",
       "      <td>0.0</td>\n",
       "      <td>0.0</td>\n",
       "      <td>0.700692</td>\n",
       "      <td>0.299308</td>\n",
       "      <td>0.0</td>\n",
       "      <td>0.0</td>\n",
       "      <td>0.0</td>\n",
       "      <td>...</td>\n",
       "      <td>0.041597</td>\n",
       "      <td>167.568440</td>\n",
       "      <td>304.183450</td>\n",
       "      <td>2362.979048</td>\n",
       "      <td>1640.652456</td>\n",
       "      <td>0.142493</td>\n",
       "      <td>0.047156</td>\n",
       "      <td>-71.161108</td>\n",
       "      <td>42</td>\n",
       "      <td>MULTIPOLYGON (((-71.16058 42.25861, -71.16068 ...</td>\n",
       "    </tr>\n",
       "    <tr>\n",
       "      <th>4</th>\n",
       "      <td>10</td>\n",
       "      <td>Commercial</td>\n",
       "      <td>0.0</td>\n",
       "      <td>0.0</td>\n",
       "      <td>0.0</td>\n",
       "      <td>1.000000</td>\n",
       "      <td>0.000000</td>\n",
       "      <td>0.0</td>\n",
       "      <td>0.0</td>\n",
       "      <td>0.0</td>\n",
       "      <td>...</td>\n",
       "      <td>0.000000</td>\n",
       "      <td>-61.805733</td>\n",
       "      <td>0.000000</td>\n",
       "      <td>1013.583268</td>\n",
       "      <td>0.000000</td>\n",
       "      <td>0.133715</td>\n",
       "      <td>0.000000</td>\n",
       "      <td>-71.159231</td>\n",
       "      <td>42</td>\n",
       "      <td>MULTIPOLYGON (((-71.15926 42.25926, -71.15914 ...</td>\n",
       "    </tr>\n",
       "    <tr>\n",
       "      <th>...</th>\n",
       "      <td>...</td>\n",
       "      <td>...</td>\n",
       "      <td>...</td>\n",
       "      <td>...</td>\n",
       "      <td>...</td>\n",
       "      <td>...</td>\n",
       "      <td>...</td>\n",
       "      <td>...</td>\n",
       "      <td>...</td>\n",
       "      <td>...</td>\n",
       "      <td>...</td>\n",
       "      <td>...</td>\n",
       "      <td>...</td>\n",
       "      <td>...</td>\n",
       "      <td>...</td>\n",
       "      <td>...</td>\n",
       "      <td>...</td>\n",
       "      <td>...</td>\n",
       "      <td>...</td>\n",
       "      <td>...</td>\n",
       "      <td>...</td>\n",
       "    </tr>\n",
       "    <tr>\n",
       "      <th>17881</th>\n",
       "      <td>17401</td>\n",
       "      <td>Residential</td>\n",
       "      <td>0.0</td>\n",
       "      <td>0.0</td>\n",
       "      <td>0.0</td>\n",
       "      <td>0.000000</td>\n",
       "      <td>0.000000</td>\n",
       "      <td>0.0</td>\n",
       "      <td>0.0</td>\n",
       "      <td>0.0</td>\n",
       "      <td>...</td>\n",
       "      <td>0.000000</td>\n",
       "      <td>0.000000</td>\n",
       "      <td>0.000000</td>\n",
       "      <td>0.000000</td>\n",
       "      <td>0.000000</td>\n",
       "      <td>0.000000</td>\n",
       "      <td>0.000000</td>\n",
       "      <td>-71.049469</td>\n",
       "      <td>42</td>\n",
       "      <td>MULTIPOLYGON (((-71.04943 42.35791, -71.04949 ...</td>\n",
       "    </tr>\n",
       "    <tr>\n",
       "      <th>17882</th>\n",
       "      <td>17402</td>\n",
       "      <td>Residential</td>\n",
       "      <td>0.0</td>\n",
       "      <td>0.0</td>\n",
       "      <td>0.0</td>\n",
       "      <td>0.000000</td>\n",
       "      <td>0.000000</td>\n",
       "      <td>0.0</td>\n",
       "      <td>0.0</td>\n",
       "      <td>0.0</td>\n",
       "      <td>...</td>\n",
       "      <td>0.000000</td>\n",
       "      <td>0.000000</td>\n",
       "      <td>0.000000</td>\n",
       "      <td>0.000000</td>\n",
       "      <td>0.000000</td>\n",
       "      <td>0.000000</td>\n",
       "      <td>0.000000</td>\n",
       "      <td>-71.049417</td>\n",
       "      <td>42</td>\n",
       "      <td>MULTIPOLYGON (((-71.04939 42.35814, -71.04945 ...</td>\n",
       "    </tr>\n",
       "    <tr>\n",
       "      <th>17883</th>\n",
       "      <td>17403</td>\n",
       "      <td>Residential</td>\n",
       "      <td>0.0</td>\n",
       "      <td>0.0</td>\n",
       "      <td>0.0</td>\n",
       "      <td>0.000000</td>\n",
       "      <td>0.000000</td>\n",
       "      <td>0.0</td>\n",
       "      <td>0.0</td>\n",
       "      <td>0.0</td>\n",
       "      <td>...</td>\n",
       "      <td>0.000000</td>\n",
       "      <td>0.000000</td>\n",
       "      <td>0.000000</td>\n",
       "      <td>0.000000</td>\n",
       "      <td>0.000000</td>\n",
       "      <td>0.000000</td>\n",
       "      <td>0.000000</td>\n",
       "      <td>-71.050119</td>\n",
       "      <td>42</td>\n",
       "      <td>MULTIPOLYGON (((-71.05016 42.35824, -71.05016 ...</td>\n",
       "    </tr>\n",
       "    <tr>\n",
       "      <th>17884</th>\n",
       "      <td>17411</td>\n",
       "      <td>Residential</td>\n",
       "      <td>0.0</td>\n",
       "      <td>0.0</td>\n",
       "      <td>0.0</td>\n",
       "      <td>0.000000</td>\n",
       "      <td>0.000000</td>\n",
       "      <td>0.0</td>\n",
       "      <td>0.0</td>\n",
       "      <td>0.0</td>\n",
       "      <td>...</td>\n",
       "      <td>0.000000</td>\n",
       "      <td>0.000000</td>\n",
       "      <td>0.000000</td>\n",
       "      <td>0.000000</td>\n",
       "      <td>0.000000</td>\n",
       "      <td>0.000000</td>\n",
       "      <td>0.000000</td>\n",
       "      <td>-71.050182</td>\n",
       "      <td>42</td>\n",
       "      <td>MULTIPOLYGON (((-71.05025 42.36481, -71.05008 ...</td>\n",
       "    </tr>\n",
       "    <tr>\n",
       "      <th>17885</th>\n",
       "      <td>17871</td>\n",
       "      <td>Residential</td>\n",
       "      <td>0.0</td>\n",
       "      <td>0.0</td>\n",
       "      <td>0.0</td>\n",
       "      <td>0.000000</td>\n",
       "      <td>0.000000</td>\n",
       "      <td>0.0</td>\n",
       "      <td>0.0</td>\n",
       "      <td>0.0</td>\n",
       "      <td>...</td>\n",
       "      <td>0.000000</td>\n",
       "      <td>0.000000</td>\n",
       "      <td>0.000000</td>\n",
       "      <td>0.000000</td>\n",
       "      <td>0.000000</td>\n",
       "      <td>0.000000</td>\n",
       "      <td>0.000000</td>\n",
       "      <td>-71.010259</td>\n",
       "      <td>42</td>\n",
       "      <td>MULTIPOLYGON (((-71.01046 42.39059, -71.00985 ...</td>\n",
       "    </tr>\n",
       "  </tbody>\n",
       "</table>\n",
       "<p>17886 rows × 65 columns</p>\n",
       "</div>"
      ]
     },
     "execution_count": 3,
     "metadata": {},
     "output_type": "execute_result"
    }
   ],
   "execution_count": 3
  },
  {
   "metadata": {
    "ExecuteTime": {
     "end_time": "2025-06-03T14:57:54.823371Z",
     "start_time": "2025-06-03T14:57:54.807748Z"
    }
   },
   "cell_type": "code",
   "source": "le = LabelEncoder()",
   "id": "d70e68c73b5bf4d0",
   "outputs": [],
   "execution_count": 4
  },
  {
   "metadata": {
    "ExecuteTime": {
     "end_time": "2025-06-03T14:57:55.299300Z",
     "start_time": "2025-06-03T14:57:55.275516Z"
    }
   },
   "cell_type": "code",
   "source": "data['LU_cls'] = le.fit_transform(data['LU'])",
   "id": "94b6f7fd1ba53b5",
   "outputs": [],
   "execution_count": 5
  },
  {
   "metadata": {
    "ExecuteTime": {
     "end_time": "2025-06-03T14:57:59.599176Z",
     "start_time": "2025-06-03T14:57:58.698850Z"
    }
   },
   "cell_type": "code",
   "source": "data.columns",
   "id": "30a91589f1eaebd3",
   "outputs": [
    {
     "data": {
      "text/plain": [
       "Index(['id_block', 'LU', 'cls_Unk', 'cls_A', 'cls_AH', 'cls_C', 'cls_CL',\n",
       "       'cls_CM', 'cls_CP', 'cls_I', 'cls_R1', 'cls_R2', 'cls_R3', 'cls_R4',\n",
       "       'cls_RC', 'cls_RL', 'cls_Tax', 'num_buil_1', 'aver_area', 'std_area',\n",
       "       'aver_peri', 'std_peri', 'aver_long_', 'std_long_c', 'aver_mean_',\n",
       "       'std_mean_r', 'aver_smbr_', 'std_smbr_o', 'aver_longe', 'std_longed',\n",
       "       'aver_bisse', 'std_bissec', 'aver_weigh', 'std_weight', 'aver_ric_c',\n",
       "       'std_ric_co', 'aver_ipq_c', 'std_ipq_co', 'aver_fra_c', 'std_fra_co',\n",
       "       'aver_gib_c', 'std_gib_co', 'aver_div_c', 'std_div_co', 'aver_elong',\n",
       "       'std_elonga', 'aver_ellip', 'std_ellipt', 'aver_conca', 'std_concav',\n",
       "       'aver_DCM_i', 'std_DCM_in', 'aver_BOT_i', 'std_BOT_in', 'aver_BOY_i',\n",
       "       'std_BOY_in', 'aver_M11', 'std_M11', 'aver_eccen', 'std_eccent',\n",
       "       'aver_densi', 'std_densit', 'lon', 'lat', 'geometry', 'LU_cls'],\n",
       "      dtype='object')"
      ]
     },
     "execution_count": 6,
     "metadata": {},
     "output_type": "execute_result"
    }
   ],
   "execution_count": 6
  },
  {
   "metadata": {
    "ExecuteTime": {
     "end_time": "2025-06-03T14:57:59.838071Z",
     "start_time": "2025-06-03T14:57:59.806781Z"
    }
   },
   "cell_type": "code",
   "source": [
    "y = data['LU_cls']\n",
    "X = data[['num_buil_1', 'aver_area', 'std_area',\n",
    "       'aver_peri', 'std_peri', 'aver_long_', 'std_long_c', 'aver_mean_',\n",
    "       'std_mean_r', 'aver_smbr_', 'std_smbr_o', 'aver_longe', 'std_longed',\n",
    "       'aver_bisse', 'std_bissec', 'aver_weigh', 'std_weight', 'aver_ric_c',\n",
    "       'std_ric_co', 'aver_ipq_c', 'std_ipq_co', 'aver_fra_c', 'std_fra_co',\n",
    "       'aver_gib_c', 'std_gib_co', 'aver_div_c', 'std_div_co', 'aver_elong',\n",
    "       'std_elonga', 'aver_ellip', 'std_ellipt', 'aver_conca', 'std_concav',\n",
    "       'aver_DCM_i', 'std_DCM_in', 'aver_BOT_i', 'std_BOT_in', 'aver_BOY_i',\n",
    "       'std_BOY_in', 'aver_M11', 'std_M11', 'aver_eccen', 'std_eccent',\n",
    "       'aver_densi', 'std_densit', 'lat', 'lon']]\n",
    "loc = data[['lat','lon']]"
   ],
   "id": "409bb8538e13bfa0",
   "outputs": [],
   "execution_count": 7
  },
  {
   "metadata": {
    "ExecuteTime": {
     "end_time": "2025-06-03T14:57:59.958621Z",
     "start_time": "2025-06-03T14:57:59.931698Z"
    }
   },
   "cell_type": "code",
   "source": "X_train, X_temp, y_train, y_temp, loc_train, loc_temp = train_test_split(X, y, loc, train_size=0.8, random_state=42)",
   "id": "c1d34f5b3e08a98d",
   "outputs": [],
   "execution_count": 8
  },
  {
   "metadata": {
    "ExecuteTime": {
     "end_time": "2025-06-03T14:58:00.068503Z",
     "start_time": "2025-06-03T14:58:00.036745Z"
    }
   },
   "cell_type": "code",
   "source": "X_calib, X_test, y_calib, y_test, loc_calib, loc_test = train_test_split(X_temp, y_temp, loc_temp, train_size=0.5, random_state=42)",
   "id": "e1b24720b1f3cca6",
   "outputs": [],
   "execution_count": 9
  },
  {
   "metadata": {
    "ExecuteTime": {
     "end_time": "2025-06-03T14:58:01.637810Z",
     "start_time": "2025-06-03T14:58:00.171978Z"
    }
   },
   "cell_type": "code",
   "source": "model = xgb.XGBClassifier(n_estimators=100, max_depth=2, min_child_weight=1.0, colsample_bytree=1.0).fit(X_train, y_train)",
   "id": "bacdad6ecf5fa579",
   "outputs": [],
   "execution_count": 10
  },
  {
   "metadata": {
    "ExecuteTime": {
     "end_time": "2025-06-03T14:58:01.803640Z",
     "start_time": "2025-06-03T14:58:01.756770Z"
    }
   },
   "cell_type": "code",
   "source": "model.score(X_test, y_test)",
   "id": "df5b91e7f276d62e",
   "outputs": [
    {
     "data": {
      "text/plain": [
       "0.6757965343767468"
      ]
     },
     "execution_count": 11,
     "metadata": {},
     "output_type": "execute_result"
    }
   ],
   "execution_count": 11
  },
  {
   "metadata": {
    "ExecuteTime": {
     "end_time": "2025-06-03T14:58:02.022964Z",
     "start_time": "2025-06-03T14:58:01.972206Z"
    }
   },
   "cell_type": "code",
   "source": "from GeoConformalPrediction import GeoConformalClassifier",
   "id": "b2c987caad1e13a1",
   "outputs": [],
   "execution_count": 12
  },
  {
   "metadata": {
    "ExecuteTime": {
     "end_time": "2025-06-03T14:58:02.178299Z",
     "start_time": "2025-06-03T14:58:02.163286Z"
    }
   },
   "cell_type": "code",
   "source": "geocp_classifier = GeoConformalClassifier(predict_f=model.predict_proba, x_calib=X_calib.values, y_calib=y_calib, coord_calib=loc_calib.values, bandwidth=0.2, miscoverage_level=0.1, nonconformity_score='aps')",
   "id": "47fb2a123a5b4104",
   "outputs": [],
   "execution_count": 13
  },
  {
   "metadata": {
    "ExecuteTime": {
     "end_time": "2025-06-03T14:58:02.826548Z",
     "start_time": "2025-06-03T14:58:02.206365Z"
    }
   },
   "cell_type": "code",
   "source": "results = geocp_classifier.geo_conformalized(X_test.values, y_test, loc_test.values)",
   "id": "6acfe585b9506bb3",
   "outputs": [
    {
     "name": "stderr",
     "output_type": "stream",
     "text": [
      "C:\\Users\\Xiayin\\PycharmProjects\\GeoConformalPrediction\\GeoConformalPrediction\\utils.py:24: RuntimeWarning: invalid value encountered in sqrt\n",
      "  distances = np.sqrt(z_test_norm + z_calib_norm - 2 * np.dot(z_test, z_calib.T))\n"
     ]
    },
    {
     "name": "stdout",
     "output_type": "stream",
     "text": [
      "[[False False False False False  True]\n",
      " [ True False  True  True False  True]\n",
      " [False False False False False False]\n",
      " ...\n",
      " [False False  True  True False  True]\n",
      " [ True False  True  True  True  True]\n",
      " [ True False  True  True False  True]]\n"
     ]
    }
   ],
   "execution_count": 14
  },
  {
   "metadata": {
    "ExecuteTime": {
     "end_time": "2025-06-03T14:58:03.057215Z",
     "start_time": "2025-06-03T14:58:03.045201Z"
    }
   },
   "cell_type": "code",
   "source": "results.coverage",
   "id": "c4598c1f79a7615a",
   "outputs": [
    {
     "data": {
      "text/plain": [
       "0.9021799888205702"
      ]
     },
     "execution_count": 15,
     "metadata": {},
     "output_type": "execute_result"
    }
   ],
   "execution_count": 15
  },
  {
   "metadata": {
    "ExecuteTime": {
     "end_time": "2025-06-03T14:58:03.254641Z",
     "start_time": "2025-06-03T14:58:03.223393Z"
    }
   },
   "cell_type": "code",
   "source": "results_geo = results.to_gpd()",
   "id": "2707214efead8bda",
   "outputs": [],
   "execution_count": 16
  },
  {
   "metadata": {
    "ExecuteTime": {
     "end_time": "2025-06-03T14:59:01.225266Z",
     "start_time": "2025-06-03T14:58:43.023259Z"
    }
   },
   "cell_type": "code",
   "source": [
    "utm = gcrs.WebMercator()\n",
    "\n",
    "ax = gplt.webmap(results_geo, projection=utm, figsize=(14, 8), provider=cx.providers.CartoDB.Voyager)\n",
    "\n",
    "gplt.choropleth(results_geo, hue='geo_uncertainty', cmap='viridis_r', legend=True, ax=ax)"
   ],
   "id": "a21e4bbc7a9807ce",
   "outputs": [
    {
     "name": "stderr",
     "output_type": "stream",
     "text": [
      "C:\\Users\\Xiayin\\miniconda3\\envs\\UncertaintyGeoXAI\\lib\\site-packages\\cartopy\\mpl\\geoaxes.py:856: UserWarning: Attempting to set identical low and high xlims makes transformation singular; automatically expanding.\n",
      "  self.set_xlim([x1, x2])\n",
      "C:\\Users\\Xiayin\\miniconda3\\envs\\UncertaintyGeoXAI\\lib\\site-packages\\contextily\\tile.py:596: RuntimeWarning: divide by zero encountered in scalar divide\n",
      "  zoom_lon = np.ceil(np.log2(360 * 2.0 / lon_length))\n"
     ]
    },
    {
     "data": {
      "text/plain": [
       "<GeoAxes: >"
      ]
     },
     "execution_count": 19,
     "metadata": {},
     "output_type": "execute_result"
    },
    {
     "data": {
      "text/plain": [
       "<Figure size 1400x800 with 2 Axes>"
      ],
      "image/png": "[encoded data removed]"
     },
     "metadata": {},
     "output_type": "display_data"
    }
   ],
   "execution_count": 19
  },
  {
   "metadata": {},
   "cell_type": "code",
   "outputs": [],
   "execution_count": null,
   "source": "",
   "id": "2d19c796bd174b87"
  }
 ],
 "metadata": {
  "kernelspec": {
   "display_name": "Python 3",
   "language": "python",
   "name": "python3"
  },
  "language_info": {
   "codemirror_mode": {
    "name": "ipython",
    "version": 2
   },
   "file_extension": ".py",
   "mimetype": "text/x-python",
   "name": "python",
   "nbconvert_exporter": "python",
   "pygments_lexer": "ipython2",
   "version": "2.7.6"
  }
 },
 "nbformat": 4,
 "nbformat_minor": 5
}
